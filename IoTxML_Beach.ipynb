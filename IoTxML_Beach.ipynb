{
 "cells": [
  {
   "cell_type": "code",
   "execution_count": 2,
   "metadata": {
    "id": "1iPWMzGFwGVe"
   },
   "outputs": [],
   "source": [
    "# Importando bibliotecas necessárias\n",
    "import pandas as pd \n",
    "import numpy as np \n",
    "import seaborn as sns   \n",
    "import matplotlib.pyplot as plt\n",
    "import plotly.express as px   \n",
    "import scipy.cluster.hierarchy as shc\n",
    "from sklearn import preprocessing, metrics\n",
    "from sklearn.cluster import KMeans, AgglomerativeClustering, DBSCAN\n",
    "from sklearn.metrics import silhouette_samples, silhouette_score \n",
    "from sklearn.preprocessing import StandardScaler\n",
    "     \n"
   ]
  },
  {
   "cell_type": "code",
   "execution_count": 1,
   "metadata": {
    "id": "5fwq9CQtwJkg"
   },
   "outputs": [
    {
     "ename": "NameError",
     "evalue": "name 'pd' is not defined",
     "output_type": "error",
     "traceback": [
      "\u001b[1;31m---------------------------------------------------------------------------\u001b[0m",
      "\u001b[1;31mNameError\u001b[0m                                 Traceback (most recent call last)",
      "Input \u001b[1;32mIn [1]\u001b[0m, in \u001b[0;36m<cell line: 2>\u001b[1;34m()\u001b[0m\n\u001b[0;32m      1\u001b[0m \u001b[38;5;66;03m# Lendo o conjunto de dados\u001b[39;00m\n\u001b[1;32m----> 2\u001b[0m data \u001b[38;5;241m=\u001b[39m \u001b[43mpd\u001b[49m\u001b[38;5;241m.\u001b[39mread_csv(\u001b[38;5;124m'\u001b[39m\u001b[38;5;124mhttps://query.data.world/s/lzvnpcg2rif4soavu7s5oy4ai6drhi?dws=00000\u001b[39m\u001b[38;5;124m'\u001b[39m)\n",
      "\u001b[1;31mNameError\u001b[0m: name 'pd' is not defined"
     ]
    }
   ],
   "source": [
    "\n",
    "\n",
    "\n",
    "\n",
    "\n",
    "\n",
    "# Lendo o conjunto de dados\n",
    "data = pd.read_csv('https://query.data.world/s/lzvnpcg2rif4soavu7s5oy4ai6drhi?dws=00000')"
   ]
  },
  {
   "cell_type": "code",
   "execution_count": 3,
   "metadata": {
    "colab": {
     "base_uri": "https://localhost:8080/",
     "height": 363
    },
    "id": "ONencozLwdsO",
    "outputId": "2ba36626-4ab7-46c1-c50d-e8f80e225b31"
   },
   "outputs": [
    {
     "data": {
      "text/html": [
       "<div>\n",
       "<style scoped>\n",
       "    .dataframe tbody tr th:only-of-type {\n",
       "        vertical-align: middle;\n",
       "    }\n",
       "\n",
       "    .dataframe tbody tr th {\n",
       "        vertical-align: top;\n",
       "    }\n",
       "\n",
       "    .dataframe thead th {\n",
       "        text-align: right;\n",
       "    }\n",
       "</style>\n",
       "<table border=\"1\" class=\"dataframe\">\n",
       "  <thead>\n",
       "    <tr style=\"text-align: right;\">\n",
       "      <th></th>\n",
       "      <th>Beach Name</th>\n",
       "      <th>Measurement Timestamp</th>\n",
       "      <th>Water Temperature</th>\n",
       "      <th>Turbidity</th>\n",
       "      <th>Transducer Depth</th>\n",
       "      <th>Wave Height</th>\n",
       "      <th>Wave Period</th>\n",
       "      <th>Battery Life</th>\n",
       "      <th>Measurement Timestamp Label</th>\n",
       "      <th>Measurement ID</th>\n",
       "    </tr>\n",
       "  </thead>\n",
       "  <tbody>\n",
       "    <tr>\n",
       "      <th>0</th>\n",
       "      <td>Montrose Beach</td>\n",
       "      <td>08/30/2013 08:00:00 AM</td>\n",
       "      <td>20.3</td>\n",
       "      <td>1.18</td>\n",
       "      <td>0.891</td>\n",
       "      <td>0.080</td>\n",
       "      <td>3.0</td>\n",
       "      <td>9.4</td>\n",
       "      <td>8/30/2013 8:00 AM</td>\n",
       "      <td>MontroseBeach201308300800</td>\n",
       "    </tr>\n",
       "    <tr>\n",
       "      <th>1</th>\n",
       "      <td>Ohio Street Beach</td>\n",
       "      <td>05/26/2016 01:00:00 PM</td>\n",
       "      <td>14.4</td>\n",
       "      <td>1.23</td>\n",
       "      <td>NaN</td>\n",
       "      <td>0.111</td>\n",
       "      <td>4.0</td>\n",
       "      <td>12.4</td>\n",
       "      <td>05/26/2016 1:00 PM</td>\n",
       "      <td>OhioStreetBeach201605261300</td>\n",
       "    </tr>\n",
       "    <tr>\n",
       "      <th>2</th>\n",
       "      <td>Calumet Beach</td>\n",
       "      <td>09/03/2013 04:00:00 PM</td>\n",
       "      <td>23.2</td>\n",
       "      <td>3.63</td>\n",
       "      <td>1.201</td>\n",
       "      <td>0.174</td>\n",
       "      <td>6.0</td>\n",
       "      <td>9.4</td>\n",
       "      <td>9/3/2013 4:00 PM</td>\n",
       "      <td>CalumetBeach201309031600</td>\n",
       "    </tr>\n",
       "    <tr>\n",
       "      <th>3</th>\n",
       "      <td>Calumet Beach</td>\n",
       "      <td>05/28/2014 12:00:00 PM</td>\n",
       "      <td>16.2</td>\n",
       "      <td>1.26</td>\n",
       "      <td>1.514</td>\n",
       "      <td>0.147</td>\n",
       "      <td>4.0</td>\n",
       "      <td>11.7</td>\n",
       "      <td>5/28/2014 12:00 PM</td>\n",
       "      <td>CalumetBeach201405281200</td>\n",
       "    </tr>\n",
       "    <tr>\n",
       "      <th>4</th>\n",
       "      <td>Montrose Beach</td>\n",
       "      <td>05/28/2014 12:00:00 PM</td>\n",
       "      <td>14.4</td>\n",
       "      <td>3.36</td>\n",
       "      <td>1.388</td>\n",
       "      <td>0.298</td>\n",
       "      <td>4.0</td>\n",
       "      <td>11.9</td>\n",
       "      <td>5/28/2014 12:00 PM</td>\n",
       "      <td>MontroseBeach201405281200</td>\n",
       "    </tr>\n",
       "    <tr>\n",
       "      <th>5</th>\n",
       "      <td>Montrose Beach</td>\n",
       "      <td>05/28/2014 01:00:00 PM</td>\n",
       "      <td>14.5</td>\n",
       "      <td>2.72</td>\n",
       "      <td>1.395</td>\n",
       "      <td>0.306</td>\n",
       "      <td>3.0</td>\n",
       "      <td>11.9</td>\n",
       "      <td>5/28/2014 1:00 PM</td>\n",
       "      <td>MontroseBeach201405281300</td>\n",
       "    </tr>\n",
       "    <tr>\n",
       "      <th>6</th>\n",
       "      <td>Calumet Beach</td>\n",
       "      <td>05/28/2014 01:00:00 PM</td>\n",
       "      <td>16.3</td>\n",
       "      <td>1.28</td>\n",
       "      <td>1.524</td>\n",
       "      <td>0.162</td>\n",
       "      <td>4.0</td>\n",
       "      <td>11.7</td>\n",
       "      <td>5/28/2014 1:00 PM</td>\n",
       "      <td>CalumetBeach201405281300</td>\n",
       "    </tr>\n",
       "    <tr>\n",
       "      <th>7</th>\n",
       "      <td>Montrose Beach</td>\n",
       "      <td>05/28/2014 02:00:00 PM</td>\n",
       "      <td>14.8</td>\n",
       "      <td>2.97</td>\n",
       "      <td>1.386</td>\n",
       "      <td>0.328</td>\n",
       "      <td>3.0</td>\n",
       "      <td>11.9</td>\n",
       "      <td>5/28/2014 2:00 PM</td>\n",
       "      <td>MontroseBeach201405281400</td>\n",
       "    </tr>\n",
       "    <tr>\n",
       "      <th>8</th>\n",
       "      <td>Calumet Beach</td>\n",
       "      <td>05/28/2014 02:00:00 PM</td>\n",
       "      <td>16.5</td>\n",
       "      <td>1.32</td>\n",
       "      <td>1.537</td>\n",
       "      <td>0.185</td>\n",
       "      <td>4.0</td>\n",
       "      <td>11.7</td>\n",
       "      <td>5/28/2014 2:00 PM</td>\n",
       "      <td>CalumetBeach201405281400</td>\n",
       "    </tr>\n",
       "    <tr>\n",
       "      <th>9</th>\n",
       "      <td>Calumet Beach</td>\n",
       "      <td>05/28/2014 03:00:00 PM</td>\n",
       "      <td>16.8</td>\n",
       "      <td>1.31</td>\n",
       "      <td>1.568</td>\n",
       "      <td>0.196</td>\n",
       "      <td>4.0</td>\n",
       "      <td>11.7</td>\n",
       "      <td>5/28/2014 3:00 PM</td>\n",
       "      <td>CalumetBeach201405281500</td>\n",
       "    </tr>\n",
       "  </tbody>\n",
       "</table>\n",
       "</div>"
      ],
      "text/plain": [
       "          Beach Name   Measurement Timestamp  Water Temperature  Turbidity  \\\n",
       "0     Montrose Beach  08/30/2013 08:00:00 AM               20.3       1.18   \n",
       "1  Ohio Street Beach  05/26/2016 01:00:00 PM               14.4       1.23   \n",
       "2      Calumet Beach  09/03/2013 04:00:00 PM               23.2       3.63   \n",
       "3      Calumet Beach  05/28/2014 12:00:00 PM               16.2       1.26   \n",
       "4     Montrose Beach  05/28/2014 12:00:00 PM               14.4       3.36   \n",
       "5     Montrose Beach  05/28/2014 01:00:00 PM               14.5       2.72   \n",
       "6      Calumet Beach  05/28/2014 01:00:00 PM               16.3       1.28   \n",
       "7     Montrose Beach  05/28/2014 02:00:00 PM               14.8       2.97   \n",
       "8      Calumet Beach  05/28/2014 02:00:00 PM               16.5       1.32   \n",
       "9      Calumet Beach  05/28/2014 03:00:00 PM               16.8       1.31   \n",
       "\n",
       "   Transducer Depth  Wave Height  Wave Period  Battery Life  \\\n",
       "0             0.891        0.080          3.0           9.4   \n",
       "1               NaN        0.111          4.0          12.4   \n",
       "2             1.201        0.174          6.0           9.4   \n",
       "3             1.514        0.147          4.0          11.7   \n",
       "4             1.388        0.298          4.0          11.9   \n",
       "5             1.395        0.306          3.0          11.9   \n",
       "6             1.524        0.162          4.0          11.7   \n",
       "7             1.386        0.328          3.0          11.9   \n",
       "8             1.537        0.185          4.0          11.7   \n",
       "9             1.568        0.196          4.0          11.7   \n",
       "\n",
       "  Measurement Timestamp Label               Measurement ID  \n",
       "0           8/30/2013 8:00 AM    MontroseBeach201308300800  \n",
       "1          05/26/2016 1:00 PM  OhioStreetBeach201605261300  \n",
       "2            9/3/2013 4:00 PM     CalumetBeach201309031600  \n",
       "3          5/28/2014 12:00 PM     CalumetBeach201405281200  \n",
       "4          5/28/2014 12:00 PM    MontroseBeach201405281200  \n",
       "5           5/28/2014 1:00 PM    MontroseBeach201405281300  \n",
       "6           5/28/2014 1:00 PM     CalumetBeach201405281300  \n",
       "7           5/28/2014 2:00 PM    MontroseBeach201405281400  \n",
       "8           5/28/2014 2:00 PM     CalumetBeach201405281400  \n",
       "9           5/28/2014 3:00 PM     CalumetBeach201405281500  "
      ]
     },
     "execution_count": 3,
     "metadata": {},
     "output_type": "execute_result"
    }
   ],
   "source": [
    "# Exibindo as primeiras linhas do conjunto de dados\n",
    "data.head(10) "
   ]
  },
  {
   "cell_type": "code",
   "execution_count": 4,
   "metadata": {
    "id": "SfZVvsRcwdnF"
   },
   "outputs": [],
   "source": [
    "#Eliminando colunas desnecessarias \n",
    "data = data.drop(columns=['Measurement ID','Measurement Timestamp','Measurement Timestamp Label'])\n",
    "    "
   ]
  },
  {
   "cell_type": "code",
   "execution_count": 18,
   "metadata": {
    "colab": {
     "base_uri": "https://localhost:8080/",
     "height": 237
    },
    "id": "D_MfiFZ5wcKg",
    "outputId": "121c8ddc-94a9-48c7-ba81-4ebc3201ab3d"
   },
   "outputs": [
    {
     "data": {
      "text/html": [
       "<div>\n",
       "<style scoped>\n",
       "    .dataframe tbody tr th:only-of-type {\n",
       "        vertical-align: middle;\n",
       "    }\n",
       "\n",
       "    .dataframe tbody tr th {\n",
       "        vertical-align: top;\n",
       "    }\n",
       "\n",
       "    .dataframe thead th {\n",
       "        text-align: right;\n",
       "    }\n",
       "</style>\n",
       "<table border=\"1\" class=\"dataframe\">\n",
       "  <thead>\n",
       "    <tr style=\"text-align: right;\">\n",
       "      <th></th>\n",
       "      <th>count</th>\n",
       "      <th>mean</th>\n",
       "      <th>std</th>\n",
       "      <th>min</th>\n",
       "      <th>25%</th>\n",
       "      <th>50%</th>\n",
       "      <th>75%</th>\n",
       "      <th>max</th>\n",
       "    </tr>\n",
       "  </thead>\n",
       "  <tbody>\n",
       "    <tr>\n",
       "      <th>Beach Name</th>\n",
       "      <td>34923.0</td>\n",
       "      <td>2.927813</td>\n",
       "      <td>1.582280</td>\n",
       "      <td>1.000</td>\n",
       "      <td>2.000</td>\n",
       "      <td>3.000</td>\n",
       "      <td>4.00</td>\n",
       "      <td>6.000</td>\n",
       "    </tr>\n",
       "    <tr>\n",
       "      <th>Water Temperature</th>\n",
       "      <td>34923.0</td>\n",
       "      <td>19.360061</td>\n",
       "      <td>3.366200</td>\n",
       "      <td>0.000</td>\n",
       "      <td>17.100</td>\n",
       "      <td>19.600</td>\n",
       "      <td>22.00</td>\n",
       "      <td>31.500</td>\n",
       "    </tr>\n",
       "    <tr>\n",
       "      <th>Turbidity</th>\n",
       "      <td>34923.0</td>\n",
       "      <td>4.822746</td>\n",
       "      <td>33.503781</td>\n",
       "      <td>0.000</td>\n",
       "      <td>0.660</td>\n",
       "      <td>1.260</td>\n",
       "      <td>2.54</td>\n",
       "      <td>1683.480</td>\n",
       "    </tr>\n",
       "    <tr>\n",
       "      <th>Transducer Depth</th>\n",
       "      <td>34923.0</td>\n",
       "      <td>0.451156</td>\n",
       "      <td>0.716732</td>\n",
       "      <td>-0.082</td>\n",
       "      <td>0.000</td>\n",
       "      <td>0.000</td>\n",
       "      <td>1.37</td>\n",
       "      <td>2.214</td>\n",
       "    </tr>\n",
       "    <tr>\n",
       "      <th>Wave Height</th>\n",
       "      <td>34923.0</td>\n",
       "      <td>-1506.000911</td>\n",
       "      <td>12180.035183</td>\n",
       "      <td>-99999.992</td>\n",
       "      <td>0.109</td>\n",
       "      <td>0.154</td>\n",
       "      <td>0.20</td>\n",
       "      <td>1.467</td>\n",
       "    </tr>\n",
       "    <tr>\n",
       "      <th>Wave Period</th>\n",
       "      <td>34923.0</td>\n",
       "      <td>-1502.391032</td>\n",
       "      <td>12180.482684</td>\n",
       "      <td>-100000.000</td>\n",
       "      <td>3.000</td>\n",
       "      <td>3.000</td>\n",
       "      <td>4.00</td>\n",
       "      <td>10.000</td>\n",
       "    </tr>\n",
       "    <tr>\n",
       "      <th>Battery Life</th>\n",
       "      <td>34923.0</td>\n",
       "      <td>11.036308</td>\n",
       "      <td>0.785147</td>\n",
       "      <td>0.000</td>\n",
       "      <td>10.600</td>\n",
       "      <td>11.000</td>\n",
       "      <td>11.50</td>\n",
       "      <td>13.300</td>\n",
       "    </tr>\n",
       "  </tbody>\n",
       "</table>\n",
       "</div>"
      ],
      "text/plain": [
       "                     count         mean           std         min     25%  \\\n",
       "Beach Name         34923.0     2.927813      1.582280       1.000   2.000   \n",
       "Water Temperature  34923.0    19.360061      3.366200       0.000  17.100   \n",
       "Turbidity          34923.0     4.822746     33.503781       0.000   0.660   \n",
       "Transducer Depth   34923.0     0.451156      0.716732      -0.082   0.000   \n",
       "Wave Height        34923.0 -1506.000911  12180.035183  -99999.992   0.109   \n",
       "Wave Period        34923.0 -1502.391032  12180.482684 -100000.000   3.000   \n",
       "Battery Life       34923.0    11.036308      0.785147       0.000  10.600   \n",
       "\n",
       "                      50%    75%       max  \n",
       "Beach Name          3.000   4.00     6.000  \n",
       "Water Temperature  19.600  22.00    31.500  \n",
       "Turbidity           1.260   2.54  1683.480  \n",
       "Transducer Depth    0.000   1.37     2.214  \n",
       "Wave Height         0.154   0.20     1.467  \n",
       "Wave Period         3.000   4.00    10.000  \n",
       "Battery Life       11.000  11.50    13.300  "
      ]
     },
     "execution_count": 18,
     "metadata": {},
     "output_type": "execute_result"
    }
   ],
   "source": [
    "# Exibindo estatísticas descritivas do conjunto de dados\n",
    "data.describe().transpose()"
   ]
  },
  {
   "cell_type": "code",
   "execution_count": 6,
   "metadata": {
    "colab": {
     "base_uri": "https://localhost:8080/"
    },
    "id": "5Vbs0An4x6eT",
    "outputId": "14105bcb-d00e-40df-d021-d75f19dc8181"
   },
   "outputs": [
    {
     "data": {
      "text/plain": [
       "array(['Montrose Beach', 'Ohio Street Beach', 'Calumet Beach',\n",
       "       '63rd Street Beach', 'Osterman Beach', 'Rainbow Beach'],\n",
       "      dtype=object)"
      ]
     },
     "execution_count": 6,
     "metadata": {},
     "output_type": "execute_result"
    }
   ],
   "source": [
    "# Visualizando as praias do dataset\n",
    "data['Beach Name'].unique()"
   ]
  },
  {
   "cell_type": "code",
   "execution_count": 19,
   "metadata": {
    "id": "cAwtOyCYyWlf"
   },
   "outputs": [],
   "source": [
    "#Transformando dados qualitatitivos em numericos  \n",
    "\n",
    "# 1 - Montrose Beach \n",
    "# 2 - Ohio Street Beach \n",
    "# 3 - Calumet Beach \n",
    "# 4 - 63rd Street Beach \n",
    "# 5 - Osterman Beach \n",
    "# 6 - Rainbow Beach\n",
    "\n",
    "beach_dict = {'Montrose Beach': 1, 'Ohio Street Beach': 2, 'Calumet Beach': 3, '63rd Street Beach': 4, 'Osterman Beach': 5, 'Rainbow Beach': 6}\n",
    "data = data.replace(beach_dict) "
   ]
  },
  {
   "cell_type": "code",
   "execution_count": 8,
   "metadata": {
    "colab": {
     "base_uri": "https://localhost:8080/"
    },
    "id": "3Wjx8ToEwcEE",
    "outputId": "8f610158-4d9c-4bef-a070-4bbf27d8d82d"
   },
   "outputs": [
    {
     "data": {
      "text/plain": [
       "(34923, 7)"
      ]
     },
     "execution_count": 8,
     "metadata": {},
     "output_type": "execute_result"
    }
   ],
   "source": [
    "# Visualizando numero de linhas e coluanas\n",
    "data.shape"
   ]
  },
  {
   "cell_type": "code",
   "execution_count": 20,
   "metadata": {
    "id": "A9McCpDwzR4W"
   },
   "outputs": [],
   "source": [
    "# Substituindo valores ausentes por zero\n",
    "data = data.fillna(0)"
   ]
  },
  {
   "cell_type": "code",
   "execution_count": 10,
   "metadata": {
    "colab": {
     "base_uri": "https://localhost:8080/",
     "height": 423
    },
    "id": "SAA1-FC714Tw",
    "outputId": "f712aeb3-5d01-4c1b-f0fb-6956db7c51f5"
   },
   "outputs": [
    {
     "data": {
      "text/html": [
       "<div>\n",
       "<style scoped>\n",
       "    .dataframe tbody tr th:only-of-type {\n",
       "        vertical-align: middle;\n",
       "    }\n",
       "\n",
       "    .dataframe tbody tr th {\n",
       "        vertical-align: top;\n",
       "    }\n",
       "\n",
       "    .dataframe thead th {\n",
       "        text-align: right;\n",
       "    }\n",
       "</style>\n",
       "<table border=\"1\" class=\"dataframe\">\n",
       "  <thead>\n",
       "    <tr style=\"text-align: right;\">\n",
       "      <th></th>\n",
       "      <th>Water Temperature</th>\n",
       "      <th>Turbidity</th>\n",
       "      <th>Transducer Depth</th>\n",
       "      <th>Wave Height</th>\n",
       "    </tr>\n",
       "  </thead>\n",
       "  <tbody>\n",
       "    <tr>\n",
       "      <th>0</th>\n",
       "      <td>20.3</td>\n",
       "      <td>1.18</td>\n",
       "      <td>0.891</td>\n",
       "      <td>0.080</td>\n",
       "    </tr>\n",
       "    <tr>\n",
       "      <th>1</th>\n",
       "      <td>14.4</td>\n",
       "      <td>1.23</td>\n",
       "      <td>0.000</td>\n",
       "      <td>0.111</td>\n",
       "    </tr>\n",
       "    <tr>\n",
       "      <th>2</th>\n",
       "      <td>23.2</td>\n",
       "      <td>3.63</td>\n",
       "      <td>1.201</td>\n",
       "      <td>0.174</td>\n",
       "    </tr>\n",
       "    <tr>\n",
       "      <th>3</th>\n",
       "      <td>16.2</td>\n",
       "      <td>1.26</td>\n",
       "      <td>1.514</td>\n",
       "      <td>0.147</td>\n",
       "    </tr>\n",
       "    <tr>\n",
       "      <th>4</th>\n",
       "      <td>14.4</td>\n",
       "      <td>3.36</td>\n",
       "      <td>1.388</td>\n",
       "      <td>0.298</td>\n",
       "    </tr>\n",
       "    <tr>\n",
       "      <th>...</th>\n",
       "      <td>...</td>\n",
       "      <td>...</td>\n",
       "      <td>...</td>\n",
       "      <td>...</td>\n",
       "    </tr>\n",
       "    <tr>\n",
       "      <th>95</th>\n",
       "      <td>16.8</td>\n",
       "      <td>1.45</td>\n",
       "      <td>1.492</td>\n",
       "      <td>0.107</td>\n",
       "    </tr>\n",
       "    <tr>\n",
       "      <th>96</th>\n",
       "      <td>15.5</td>\n",
       "      <td>5.28</td>\n",
       "      <td>1.443</td>\n",
       "      <td>0.202</td>\n",
       "    </tr>\n",
       "    <tr>\n",
       "      <th>97</th>\n",
       "      <td>15.8</td>\n",
       "      <td>5.04</td>\n",
       "      <td>1.454</td>\n",
       "      <td>0.193</td>\n",
       "    </tr>\n",
       "    <tr>\n",
       "      <th>98</th>\n",
       "      <td>17.2</td>\n",
       "      <td>1.46</td>\n",
       "      <td>1.496</td>\n",
       "      <td>0.116</td>\n",
       "    </tr>\n",
       "    <tr>\n",
       "      <th>99</th>\n",
       "      <td>17.4</td>\n",
       "      <td>1.52</td>\n",
       "      <td>1.525</td>\n",
       "      <td>0.108</td>\n",
       "    </tr>\n",
       "  </tbody>\n",
       "</table>\n",
       "<p>100 rows × 4 columns</p>\n",
       "</div>"
      ],
      "text/plain": [
       "    Water Temperature  Turbidity  Transducer Depth  Wave Height\n",
       "0                20.3       1.18             0.891        0.080\n",
       "1                14.4       1.23             0.000        0.111\n",
       "2                23.2       3.63             1.201        0.174\n",
       "3                16.2       1.26             1.514        0.147\n",
       "4                14.4       3.36             1.388        0.298\n",
       "..                ...        ...               ...          ...\n",
       "95               16.8       1.45             1.492        0.107\n",
       "96               15.5       5.28             1.443        0.202\n",
       "97               15.8       5.04             1.454        0.193\n",
       "98               17.2       1.46             1.496        0.116\n",
       "99               17.4       1.52             1.525        0.108\n",
       "\n",
       "[100 rows x 4 columns]"
      ]
     },
     "execution_count": 10,
     "metadata": {},
     "output_type": "execute_result"
    }
   ],
   "source": [
    "# Selecionando colunas para correlação\n",
    "corr_data = data.iloc[0:100,1:5:]   \n",
    "corr_data"
   ]
  },
  {
   "cell_type": "code",
   "execution_count": 11,
   "metadata": {
    "colab": {
     "base_uri": "https://localhost:8080/",
     "height": 573
    },
    "id": "Hj6Tf0NI1yVz",
    "outputId": "fc5df0fa-2184-4125-cfe3-1e7bd4ba5f90"
   },
   "outputs": [
    {
     "data": {
      "text/plain": [
       "<AxesSubplot:>"
      ]
     },
     "execution_count": 11,
     "metadata": {},
     "output_type": "execute_result"
    },
    {
     "data": {
      "image/png": "[encoded data removed]",
      "text/plain": [
       "<Figure size 640x480 with 2 Axes>"
      ]
     },
     "metadata": {},
     "output_type": "display_data"
    }
   ],
   "source": [
    "# Visualizando a matriz de correlação entre as variáveis\n",
    "corr_data = data.iloc[:, 1:5]\n",
    "corr = corr_data.corr()\n",
    "sns.heatmap(corr, vmin=-1, vmax=1, center=0, cmap=sns.diverging_palette(20, 220, n=200), square=True, annot=True)\n"
   ]
  },
  {
   "cell_type": "code",
   "execution_count": 21,
   "metadata": {
    "colab": {
     "base_uri": "https://localhost:8080/"
    },
    "id": "qGrk6CTiwb9h",
    "outputId": "3cebfe01-47bc-44d4-a993-fdbf10250d50"
   },
   "outputs": [],
   "source": [
    "# Aplicando k-means para clustering com 5 clusters\n",
    "kmeans = KMeans(n_clusters=5, random_state=34923)\n",
    "clustering = kmeans.fit_predict(data) \n",
    "clustered= np.reshape(clustering, (len(data),)) "
   ]
  },
  {
   "cell_type": "code",
   "execution_count": 22,
   "metadata": {
    "colab": {
     "base_uri": "https://localhost:8080/"
    },
    "id": "bgtvzSsRz9AJ",
    "outputId": "53bbc64e-4509-4055-a0d5-7c1a760f09de"
   },
   "outputs": [],
   "source": [
    "# Aplicando o algoritmo de clustering aglomerativo com 5 clusters\n",
    "clustering = AgglomerativeClustering(n_clusters=5, affinity='euclidean', linkage='average')\n",
    "clustering = clustering.fit_predict(data)  "
   ]
  },
  {
   "cell_type": "code",
   "execution_count": 23,
   "metadata": {
    "id": "7vaAUIAB0sTf"
   },
   "outputs": [],
   "source": [
    "# Selecionando um subconjunto do conjunto de dados original para visualização do dendrograma\n",
    "selected_data = data.iloc[0:100, 1::3]"
   ]
  },
  {
   "cell_type": "code",
   "execution_count": 15,
   "metadata": {
    "colab": {
     "base_uri": "https://localhost:8080/"
    },
    "id": "q3YHkub61kYD",
    "outputId": "17819572-881b-48e8-9fd0-687e5e4eeabb"
   },
   "outputs": [
    {
     "name": "stdout",
     "output_type": "stream",
     "text": [
      "Silhouette: 0.9863962670340232\n"
     ]
    }
   ],
   "source": [
    "silhouette = silhouette_score(data, clustering)\n",
    "print(\"Silhouette:\", silhouette)"
   ]
  },
  {
   "cell_type": "code",
   "execution_count": 16,
   "metadata": {
    "colab": {
     "base_uri": "https://localhost:8080/",
     "height": 453
    },
    "id": "eFy4PBxTz9Ih",
    "outputId": "a37810c0-9254-40de-b684-ac7622f9a628"
   },
   "outputs": [
    {
     "data": {
      "image/png": "[encoded data removed]",
      "text/plain": [
       "<Figure size 640x480 with 1 Axes>"
      ]
     },
     "metadata": {},
     "output_type": "display_data"
    }
   ],
   "source": [
    "# Função para criar o dendrograma\n",
    "def create_dendrogram(data, num_clusters):\n",
    "    # Normalizando os dados\n",
    "    scaler = StandardScaler()\n",
    "    scaled_data = scaler.fit_transform(data)\n",
    "    \n",
    "    # Criando os clusters usando o método de Ward e a métrica euclidiana\n",
    "    clusters = shc.linkage(scaled_data, method='ward', metric='euclidean')\n",
    "    \n",
    "    # Criando o dendrograma\n",
    "    shc.dendrogram(clusters, truncate_mode='lastp', p=num_clusters)\n",
    "    \n",
    "    # Definindo os rótulos dos eixos Y e X\n",
    "    plt.ylabel('Distância')\n",
    "    plt.xlabel('Amostras')\n",
    "    \n",
    "    # Exibindo o dendrograma\n",
    "    plt.show()\n",
    "\n",
    "# Criando o dendrograma com 5 clusters\n",
    "create_dendrogram(selected_data, num_clusters=5)\n"
   ]
  }
 ],
 "metadata": {
  "colab": {
   "provenance": []
  },
  "kernelspec": {
   "display_name": "Python 3 (ipykernel)",
   "language": "python",
   "name": "python3"
  },
  "language_info": {
   "codemirror_mode": {
    "name": "ipython",
    "version": 3
   },
   "file_extension": ".py",
   "mimetype": "text/x-python",
   "name": "python",
   "nbconvert_exporter": "python",
   "pygments_lexer": "ipython3",
   "version": "3.9.13"
  }
 },
 "nbformat": 4,
 "nbformat_minor": 1
}
